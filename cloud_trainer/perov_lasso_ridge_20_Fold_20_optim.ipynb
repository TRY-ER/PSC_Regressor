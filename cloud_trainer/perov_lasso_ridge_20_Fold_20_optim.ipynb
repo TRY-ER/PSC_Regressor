{
 "cells": [
  {
   "cell_type": "code",
   "execution_count": 1,
   "id": "a8782ed8",
   "metadata": {
    "_cell_guid": "b1076dfc-b9ad-4769-8c92-a6c4dae69d19",
    "_uuid": "8f2839f25d086af736a60e9eeb907d3b93b6e0e5",
    "execution": {
     "iopub.execute_input": "2023-02-17T10:10:22.883819Z",
     "iopub.status.busy": "2023-02-17T10:10:22.883108Z",
     "iopub.status.idle": "2023-02-17T10:10:25.004635Z",
     "shell.execute_reply": "2023-02-17T10:10:25.003317Z"
    },
    "papermill": {
     "duration": 2.132279,
     "end_time": "2023-02-17T10:10:25.007986",
     "exception": false,
     "start_time": "2023-02-17T10:10:22.875707",
     "status": "completed"
    },
    "tags": []
   },
   "outputs": [],
   "source": [
    "import pandas as pd\n",
    "import numpy as np\n",
    "# from xgboost import XGBRegressor\n",
    "# import torch\n",
    "# from pytorch_tabnet.tab_model import TabNetRegressor\n",
    "from sklearn.metrics import accuracy_score,mean_squared_error,mean_absolute_error,r2_score\n",
    "# from sklearn.linear_model import Lasso\n",
    "from sklearn.linear_model import Ridge\n",
    "import optuna as opt\n",
    "import joblib\n",
    "import random\n",
    "import os"
   ]
  },
  {
   "cell_type": "code",
   "execution_count": 2,
   "id": "864b014d",
   "metadata": {
    "execution": {
     "iopub.execute_input": "2023-02-17T10:10:25.018359Z",
     "iopub.status.busy": "2023-02-17T10:10:25.017848Z",
     "iopub.status.idle": "2023-02-17T10:10:48.518061Z",
     "shell.execute_reply": "2023-02-17T10:10:48.516443Z"
    },
    "papermill": {
     "duration": 23.509031,
     "end_time": "2023-02-17T10:10:48.521435",
     "exception": false,
     "start_time": "2023-02-17T10:10:25.012404",
     "status": "completed"
    },
    "tags": []
   },
   "outputs": [
    {
     "name": "stdout",
     "output_type": "stream",
     "text": [
      "Collecting kaleido\r\n",
      "  Downloading kaleido-0.2.1-py2.py3-none-manylinux1_x86_64.whl (79.9 MB)\r\n",
      "\u001b[2K     \u001b[90m━━━━━━━━━━━━━━━━━━━━━━━━━━━━━━━━━━━━━━━━\u001b[0m \u001b[32m79.9/79.9 MB\u001b[0m \u001b[31m8.0 MB/s\u001b[0m eta \u001b[36m0:00:00\u001b[0m\r\n",
      "\u001b[?25hInstalling collected packages: kaleido\r\n",
      "Successfully installed kaleido-0.2.1\r\n",
      "\u001b[33mWARNING: Running pip as the 'root' user can result in broken permissions and conflicting behaviour with the system package manager. It is recommended to use a virtual environment instead: https://pip.pypa.io/warnings/venv\u001b[0m\u001b[33m\r\n",
      "\u001b[0m"
     ]
    }
   ],
   "source": [
    "! pip install -U kaleido"
   ]
  },
  {
   "cell_type": "code",
   "execution_count": 3,
   "id": "0fb46811",
   "metadata": {
    "execution": {
     "iopub.execute_input": "2023-02-17T10:10:48.548684Z",
     "iopub.status.busy": "2023-02-17T10:10:48.547694Z",
     "iopub.status.idle": "2023-02-17T10:10:48.561750Z",
     "shell.execute_reply": "2023-02-17T10:10:48.560369Z"
    },
    "papermill": {
     "duration": 0.030649,
     "end_time": "2023-02-17T10:10:48.564616",
     "exception": false,
     "start_time": "2023-02-17T10:10:48.533967",
     "status": "completed"
    },
    "tags": []
   },
   "outputs": [],
   "source": [
    "def make_save_cv_model(i,model_name,model,optim,mse_loss,trial_data,output_path=\"./\"):\n",
    "\n",
    "    ''' This function saves cross validation model in the corresponding directory ( if the path does not exist it creates the path for it'''\n",
    "\n",
    "\n",
    "    if os.path.exists(os.path.join(output_path,f\"trial_{i}_{model_name}_{optim}\")):\n",
    "        joblib.dump(model, os.path.join(output_path,f\"trial_{i}_{model_name}_{optim}/{i}_model.z\"))\n",
    "        with open(os.path.join(output_path,f\"trial_{i}_{model_name}_{optim}/losses.txt\"),\"w+\") as file:file.write(f\" mse_loss :: {str(mse_loss)}\")\n",
    "        joblib.dump(trial_data, os.path.join(output_path,f\"trial_{i}_{model_name}_{optim}/{i}_trial_data.z\"))\n",
    "    else:\n",
    "        os.mkdir(os.path.join(output_path,f\"trial_{i}_{model_name}_{optim}\"))\n",
    "        joblib.dump(model, os.path.join(output_path,f\"trial_{i}_{model_name}_{optim}/{i}_model.z\"))\n",
    "        with open(os.path.join(output_path,f\"trial_{i}_{model_name}_{optim}/losses.txt\"),\"w+\") as file:file.write(f\" mse_loss :: {str(mse_loss)}\")\n",
    "        joblib.dump(trial_data, os.path.join(output_path,f\"trial_{i}_{model_name}_{optim}/{i}_trial_data.z\"))"
   ]
  },
  {
   "cell_type": "code",
   "execution_count": 4,
   "id": "1c0c13eb",
   "metadata": {
    "execution": {
     "iopub.execute_input": "2023-02-17T10:10:48.591088Z",
     "iopub.status.busy": "2023-02-17T10:10:48.589887Z",
     "iopub.status.idle": "2023-02-17T10:10:48.598802Z",
     "shell.execute_reply": "2023-02-17T10:10:48.597788Z"
    },
    "papermill": {
     "duration": 0.024475,
     "end_time": "2023-02-17T10:10:48.601070",
     "exception": false,
     "start_time": "2023-02-17T10:10:48.576595",
     "status": "completed"
    },
    "tags": []
   },
   "outputs": [],
   "source": [
    "def save_cv_model(i,model_name,model,optim,mse_loss,output_path=\"./\"):\n",
    "\n",
    "    ''' This function saves cross validation model in the corresponding directory ( if the path does not exist it creates the path for it'''\n",
    "\n",
    "\n",
    "    if os.path.exists(os.path.join(output_path,f\"{i}_{model_name}_{optim}\")):\n",
    "        joblib.dump(model, os.path.join(output_path,f\"{i}_{model_name}_{optim}/{i}_model.z\"))\n",
    "        with open(os.path.join(output_path,f\"{i}_{model_name}_{optim}/losses_{fold}.txt\"),\"w+\") as file:file.write(f\" mse_loss :: {str(mse_loss)}\")\n",
    "    else:\n",
    "        os.mkdir(os.path.join(output_path,f\"{i}_{model_name}_{optim}\"))\n",
    "        joblib.dump(model, os.path.join(output_path,f\"{i}_{model_name}_{optim}/{i}_model.z\"))\n",
    "        with open(os.path.join(output_path,f\"{i}_{model_name}_{optim}/losses_{fold}.txt\"),\"w+\") as file:file.write(f\" mse_loss :: {str(mse_loss)}\")"
   ]
  },
  {
   "cell_type": "code",
   "execution_count": 5,
   "id": "bbb5a87e",
   "metadata": {
    "execution": {
     "iopub.execute_input": "2023-02-17T10:10:48.627421Z",
     "iopub.status.busy": "2023-02-17T10:10:48.626916Z",
     "iopub.status.idle": "2023-02-17T10:10:48.634324Z",
     "shell.execute_reply": "2023-02-17T10:10:48.632941Z"
    },
    "papermill": {
     "duration": 0.024068,
     "end_time": "2023-02-17T10:10:48.637263",
     "exception": false,
     "start_time": "2023-02-17T10:10:48.613195",
     "status": "completed"
    },
    "tags": []
   },
   "outputs": [],
   "source": [
    "def get_trial_data(trial) -> list:\n",
    "  ''' This function takes the trial objects and returns the dictionary containing the trial details for plotting and comparing purposes '''\n",
    "  trial_data = trial.get_trials()\n",
    "  value_dict = {}\n",
    "  for i in trial_data:\n",
    "    print(i.params)\n",
    "    value_dict[i.number] = {\"params\": i.params , \"rmse\": i.values}\n",
    "    print(f\"{i.number} : {i.values}\")\n",
    "  return value_dict"
   ]
  },
  {
   "cell_type": "code",
   "execution_count": 6,
   "id": "57d6a0ff",
   "metadata": {
    "execution": {
     "iopub.execute_input": "2023-02-17T10:10:48.664048Z",
     "iopub.status.busy": "2023-02-17T10:10:48.663517Z",
     "iopub.status.idle": "2023-02-17T10:10:48.673158Z",
     "shell.execute_reply": "2023-02-17T10:10:48.671684Z"
    },
    "papermill": {
     "duration": 0.026393,
     "end_time": "2023-02-17T10:10:48.675937",
     "exception": false,
     "start_time": "2023-02-17T10:10:48.649544",
     "status": "completed"
    },
    "tags": []
   },
   "outputs": [],
   "source": [
    "def save_optuna_plots(study,dirname):\n",
    "    optim_hist = opt.visualization.plot_optimization_history(study)\n",
    "    intermediate = opt.visualization.plot_intermediate_values(study)\n",
    "    parallel = opt.visualization.plot_parallel_coordinate(study)\n",
    "    plot_slice = opt.visualization.plot_slice(study)\n",
    "    name_lists = [\"optim_hist\",\"intermediate\",\"parallel\", \"plot_slice\"]\n",
    "    plot_lists = [optim_hist,intermediate,parallel, plot_slice]\n",
    "    for name,plot in zip(name_lists,plot_lists):\n",
    "        if os.path.exists(f\"./{dirname}\"):\n",
    "            print(\"getting into if block\")\n",
    "            plot.write_image(f\"./{dirname}/{name}.jpg\",width=2, height=2)\n",
    "        else:\n",
    "            print(\"getting into else block\")\n",
    "            os.mkdir(f\"./{dirname}\")\n",
    "            plot.write_image(f\"./{dirname}/{name}.jpg\",width=2, height=2)"
   ]
  },
  {
   "cell_type": "code",
   "execution_count": 7,
   "id": "d0383e92",
   "metadata": {
    "execution": {
     "iopub.execute_input": "2023-02-17T10:10:48.702756Z",
     "iopub.status.busy": "2023-02-17T10:10:48.702276Z",
     "iopub.status.idle": "2023-02-17T10:10:48.721415Z",
     "shell.execute_reply": "2023-02-17T10:10:48.720119Z"
    },
    "papermill": {
     "duration": 0.036059,
     "end_time": "2023-02-17T10:10:48.723965",
     "exception": false,
     "start_time": "2023-02-17T10:10:48.687906",
     "status": "completed"
    },
    "tags": []
   },
   "outputs": [],
   "source": [
    "def train_trial(fold_dict,fold,model_name,sc_df,tar_col,optim,optim_trial,k_folds,tar_cols=\"\",verbose=1):\n",
    "\n",
    "    ''' this function is used to train the model with parameters optimization using optuna and cross validation using stratified k_folds'''\n",
    "    print(f\"running for fold :{fold}\")\n",
    "    y = sc_df[tar_col]\n",
    "    print(y.shape)\n",
    "    x = sc_df.drop([tar_col],axis=1)\n",
    "    print(x.shape)\n",
    "    model_name = model_name \n",
    "    def objective(trial):\n",
    "      train_index = fold_dict[fold][\"train\"]\n",
    "      test_index = fold_dict[fold][\"test\"]\n",
    "      clf = Ridge(max_iter = trial.suggest_categorical(\"max_iter\",[2000,4000,5000]),\n",
    "                 tol = trial.suggest_categorical(\"tol\",[1e-4,1e-3,1e-5]),\n",
    "                 solver = trial.suggest_categorical(\"solver\",[\"svd\", \"cholesky\", \"lsqr\", \"sparse_cg\", \"sag\", \"saga\"]),\n",
    "                 random_state=1234)\n",
    "      # print(f\" train_index :: {train_index}\")\n",
    "      # print(f\" test_index :: {test_index}\")\n",
    "      X_train,X_test = x.iloc[train_index,:], x.iloc[test_index,:]\n",
    "      # print(X_train.shape, X_test.shape)\n",
    "      X_train, X_test = X_train.to_numpy(dtype=np.float64), X_test.to_numpy(dtype=np.float64)\n",
    "      Y_train, Y_test = y.iloc[train_index].to_numpy(dtype=np.float64), y.iloc[test_index].to_numpy(np.float64)\n",
    "      # Y_train, Y_test = Y_train.to_numpy(dtype=np.float64), Y_test.to_numpy(dtype=np.float64)\n",
    "      print(X_train.shape)\n",
    "      print(Y_train.shape)\n",
    "      print(X_test.shape)\n",
    "      print(Y_test.shape)\n",
    "      clf.fit(X_train, Y_train)\n",
    "      Y_pred = clf.predict(X_test)\n",
    "      mse_error = mean_squared_error(Y_pred, Y_test, squared=False)\n",
    "      return mse_error\n",
    "\n",
    "    print(f\"Starting optimization for fold : [{fold}/{k_folds}]\")\n",
    "    study = opt.create_study(direction='minimize')\n",
    "    study.optimize(objective, n_trials=optim_trial)\n",
    "    save_optuna_plots(study,\"optuna_plots\")\n",
    "    best_params = study.best_params\n",
    "    trial_data = get_trial_data(study)\n",
    "    print(f\" Best params for fold : [{fold}/{k_folds}]\")\n",
    "    print(best_params)\n",
    "    train_index = fold_dict[fold][\"train\"]\n",
    "    test_index = fold_dict[fold][\"test\"]\n",
    "    X_train,X_test = x.iloc[train_index,:], x.iloc[test_index,:]\n",
    "    # print(X_train.shape, X_test.shape)\n",
    "    X_train, X_test = X_train.to_numpy(dtype=np.float64), X_test.to_numpy(dtype=np.float64)\n",
    "    Y_train, Y_test = y.iloc[train_index], y.iloc[test_index]\n",
    "    Y_train, Y_test = Y_train.to_numpy(dtype=np.float64), Y_test.to_numpy(dtype=np.float64)\n",
    "    clf_model = Ridge(**study.best_params)\n",
    "    clf_model.fit(X_train,Y_train)\n",
    "    Y_pred = clf_model.predict(X_test)\n",
    "    error =  clf_model.predict(X_test)\n",
    "    error = {\"mse_error\" : mean_squared_error(Y_pred, Y_test, squared=False),\n",
    "    \"mae_error\" : mean_absolute_error(Y_pred,Y_test),\n",
    "    \"rmse_error\" : mean_squared_error(Y_pred, Y_test),\n",
    "    \"r2_score\" : r2_score(Y_pred,Y_test) }\n",
    "    # try:\n",
    "    print(\"[++] Saving the model and parameters in corresponding directories\")\n",
    "    make_save_cv_model(fold,model_name,clf_model,optim,mse_loss=error,trial_data=trial_data)\n",
    "    return trial_data,best_params"
   ]
  },
  {
   "cell_type": "code",
   "execution_count": 8,
   "id": "ac5cd2f3",
   "metadata": {
    "execution": {
     "iopub.execute_input": "2023-02-17T10:10:48.750658Z",
     "iopub.status.busy": "2023-02-17T10:10:48.749517Z",
     "iopub.status.idle": "2023-02-17T10:10:48.761218Z",
     "shell.execute_reply": "2023-02-17T10:10:48.760276Z"
    },
    "papermill": {
     "duration": 0.027747,
     "end_time": "2023-02-17T10:10:48.763619",
     "exception": false,
     "start_time": "2023-02-17T10:10:48.735872",
     "status": "completed"
    },
    "tags": []
   },
   "outputs": [],
   "source": [
    "def train(fold_dict,fold,model_name,sc_df,tar_col,optim,k_folds,best_params,tar_cols=\"\",verbose=1):\n",
    "\n",
    "    ''' this function is used to train the model with parameters optimization using optuna and cross validation using stratified k_folds'''\n",
    "\n",
    "    y = sc_df[tar_col]\n",
    "    print(y.shape)\n",
    "    x = sc_df.drop([tar_col],axis=1)\n",
    "    print(x.shape)\n",
    "    model_name = model_name \n",
    "    train_index = fold_dict[fold][\"train\"]\n",
    "    test_index = fold_dict[fold][\"test\"]\n",
    "    X_train,X_test = x.iloc[train_index,:], x.iloc[test_index,:]\n",
    "    # print(X_train.shape, X_test.shape)\n",
    "    X_train, X_test = X_train.to_numpy(dtype=np.float64), X_test.to_numpy(dtype=np.float64)\n",
    "    Y_train, Y_test = y.iloc[train_index], y.iloc[test_index]\n",
    "    Y_train, Y_test = Y_train.to_numpy(dtype=np.float64), Y_test.to_numpy(dtype=np.float64)\n",
    "    clf_model = Ridge(**best_params)\n",
    "    Y_train = Y_train.reshape(-1,1)\n",
    "    clf_model.fit(X_train,Y_train)\n",
    "    Y_pred = clf_model.predict(X_test)\n",
    "    error = {\n",
    "    \"mse_error\" : mean_squared_error(Y_pred, Y_test, squared=False),\n",
    "    \"mae_error\" : mean_absolute_error(Y_pred,Y_test),\n",
    "    \"rmse_error\" : mean_squared_error(Y_pred, Y_test),\n",
    "    \"r2_score\" : r2_score(Y_pred,Y_test) }\n",
    "    # try:\n",
    "    print(\"[++] Saving the model and parameters in corresponding directories\")\n",
    "    save_cv_model(fold,model_name,clf_model,optim,mse_loss=error)"
   ]
  },
  {
   "cell_type": "code",
   "execution_count": null,
   "id": "b0bd13d7",
   "metadata": {
    "papermill": {
     "duration": 0.012303,
     "end_time": "2023-02-17T10:10:48.787954",
     "exception": false,
     "start_time": "2023-02-17T10:10:48.775651",
     "status": "completed"
    },
    "tags": []
   },
   "outputs": [],
   "source": []
  },
  {
   "cell_type": "code",
   "execution_count": 9,
   "id": "7536e46d",
   "metadata": {
    "execution": {
     "iopub.execute_input": "2023-02-17T10:10:48.814061Z",
     "iopub.status.busy": "2023-02-17T10:10:48.813571Z",
     "iopub.status.idle": "2023-02-17T10:19:51.867597Z",
     "shell.execute_reply": "2023-02-17T10:19:51.863865Z"
    },
    "papermill": {
     "duration": 543.07216,
     "end_time": "2023-02-17T10:19:51.872179",
     "exception": false,
     "start_time": "2023-02-17T10:10:48.800019",
     "status": "completed"
    },
    "tags": []
   },
   "outputs": [
    {
     "name": "stderr",
     "output_type": "stream",
     "text": [
      "\u001b[32m[I 2023-02-17 10:10:51,765]\u001b[0m A new study created in memory with name: no-name-2845fa9a-ea6c-4a33-941c-9d8e21c1c133\u001b[0m\n",
      "\u001b[32m[I 2023-02-17 10:10:51,955]\u001b[0m Trial 0 finished with value: 6.7534243245664864 and parameters: {'max_iter': 4000, 'tol': 0.0001, 'solver': 'lsqr'}. Best is trial 0 with value: 6.7534243245664864.\u001b[0m\n"
     ]
    },
    {
     "name": "stdout",
     "output_type": "stream",
     "text": [
      "running for fold :11\n",
      "(46820,)\n",
      "(46820, 103)\n",
      "Starting optimization for fold : [11/20]\n",
      "(44479, 103)\n",
      "(44479,)\n",
      "(2341, 103)\n",
      "(2341,)\n",
      "(44479, 103)\n",
      "(44479,)\n",
      "(2341, 103)\n",
      "(2341,)\n"
     ]
    },
    {
     "name": "stderr",
     "output_type": "stream",
     "text": [
      "\u001b[32m[I 2023-02-17 10:10:52,450]\u001b[0m Trial 1 finished with value: 6.753584816605659 and parameters: {'max_iter': 2000, 'tol': 0.0001, 'solver': 'svd'}. Best is trial 0 with value: 6.7534243245664864.\u001b[0m\n",
      "\u001b[32m[I 2023-02-17 10:10:52,630]\u001b[0m Trial 2 finished with value: 6.753584816605664 and parameters: {'max_iter': 4000, 'tol': 0.001, 'solver': 'cholesky'}. Best is trial 0 with value: 6.7534243245664864.\u001b[0m\n"
     ]
    },
    {
     "name": "stdout",
     "output_type": "stream",
     "text": [
      "(44479, 103)\n",
      "(44479,)\n",
      "(2341, 103)\n",
      "(2341,)\n",
      "(44479, 103)\n",
      "(44479,)\n",
      "(2341, 103)\n",
      "(2341,)\n"
     ]
    },
    {
     "name": "stderr",
     "output_type": "stream",
     "text": [
      "\u001b[32m[I 2023-02-17 10:10:52,868]\u001b[0m Trial 3 finished with value: 6.753761274419008 and parameters: {'max_iter': 5000, 'tol': 0.001, 'solver': 'lsqr'}. Best is trial 0 with value: 6.7534243245664864.\u001b[0m\n"
     ]
    },
    {
     "name": "stdout",
     "output_type": "stream",
     "text": [
      "(44479, 103)\n",
      "(44479,)\n",
      "(2341, 103)\n",
      "(2341,)\n"
     ]
    },
    {
     "name": "stderr",
     "output_type": "stream",
     "text": [
      "\u001b[32m[I 2023-02-17 10:10:53,380]\u001b[0m Trial 4 finished with value: 6.753584816605659 and parameters: {'max_iter': 4000, 'tol': 0.0001, 'solver': 'svd'}. Best is trial 0 with value: 6.7534243245664864.\u001b[0m\n"
     ]
    },
    {
     "name": "stdout",
     "output_type": "stream",
     "text": [
      "(44479, 103)\n",
      "(44479,)\n",
      "(2341, 103)\n",
      "(2341,)\n"
     ]
    },
    {
     "name": "stderr",
     "output_type": "stream",
     "text": [
      "\u001b[32m[I 2023-02-17 10:15:50,287]\u001b[0m Trial 5 finished with value: 6.755457102350513 and parameters: {'max_iter': 4000, 'tol': 0.0001, 'solver': 'saga'}. Best is trial 0 with value: 6.7534243245664864.\u001b[0m\n"
     ]
    },
    {
     "name": "stdout",
     "output_type": "stream",
     "text": [
      "(44479, 103)\n",
      "(44479,)\n",
      "(2341, 103)\n",
      "(2341,)\n"
     ]
    },
    {
     "name": "stderr",
     "output_type": "stream",
     "text": [
      "\u001b[32m[I 2023-02-17 10:15:50,760]\u001b[0m Trial 6 finished with value: 6.753584816605659 and parameters: {'max_iter': 5000, 'tol': 1e-05, 'solver': 'svd'}. Best is trial 0 with value: 6.7534243245664864.\u001b[0m\n",
      "\u001b[32m[I 2023-02-17 10:15:50,910]\u001b[0m Trial 7 finished with value: 6.753584816605664 and parameters: {'max_iter': 2000, 'tol': 1e-05, 'solver': 'cholesky'}. Best is trial 0 with value: 6.7534243245664864.\u001b[0m\n"
     ]
    },
    {
     "name": "stdout",
     "output_type": "stream",
     "text": [
      "(44479, 103)\n",
      "(44479,)\n",
      "(2341, 103)\n",
      "(2341,)\n",
      "(44479, 103)\n",
      "(44479,)\n",
      "(2341, 103)\n",
      "(2341,)\n"
     ]
    },
    {
     "name": "stderr",
     "output_type": "stream",
     "text": [
      "\u001b[32m[I 2023-02-17 10:15:51,125]\u001b[0m Trial 8 finished with value: 6.753761274419008 and parameters: {'max_iter': 2000, 'tol': 0.001, 'solver': 'lsqr'}. Best is trial 0 with value: 6.7534243245664864.\u001b[0m\n",
      "\u001b[32m[I 2023-02-17 10:15:51,262]\u001b[0m Trial 9 finished with value: 6.753584816605664 and parameters: {'max_iter': 5000, 'tol': 1e-05, 'solver': 'cholesky'}. Best is trial 0 with value: 6.7534243245664864.\u001b[0m\n"
     ]
    },
    {
     "name": "stdout",
     "output_type": "stream",
     "text": [
      "(44479, 103)\n",
      "(44479,)\n",
      "(2341, 103)\n",
      "(2341,)\n",
      "(44479, 103)\n",
      "(44479,)\n",
      "(2341, 103)\n",
      "(2341,)\n"
     ]
    },
    {
     "name": "stderr",
     "output_type": "stream",
     "text": [
      "\u001b[32m[I 2023-02-17 10:15:51,461]\u001b[0m Trial 10 finished with value: 6.753584756876941 and parameters: {'max_iter': 4000, 'tol': 0.0001, 'solver': 'sparse_cg'}. Best is trial 0 with value: 6.7534243245664864.\u001b[0m\n",
      "\u001b[32m[I 2023-02-17 10:15:51,660]\u001b[0m Trial 11 finished with value: 6.753584756876941 and parameters: {'max_iter': 4000, 'tol': 0.0001, 'solver': 'sparse_cg'}. Best is trial 0 with value: 6.7534243245664864.\u001b[0m\n"
     ]
    },
    {
     "name": "stdout",
     "output_type": "stream",
     "text": [
      "(44479, 103)\n",
      "(44479,)\n",
      "(2341, 103)\n",
      "(2341,)\n",
      "(44479, 103)\n",
      "(44479,)\n",
      "(2341, 103)\n",
      "(2341,)\n"
     ]
    },
    {
     "name": "stderr",
     "output_type": "stream",
     "text": [
      "\u001b[32m[I 2023-02-17 10:18:56,759]\u001b[0m Trial 12 finished with value: 6.754559480493831 and parameters: {'max_iter': 4000, 'tol': 0.0001, 'solver': 'sag'}. Best is trial 0 with value: 6.7534243245664864.\u001b[0m\n",
      "\u001b[32m[I 2023-02-17 10:18:56,966]\u001b[0m Trial 13 finished with value: 6.753584756876941 and parameters: {'max_iter': 4000, 'tol': 0.0001, 'solver': 'sparse_cg'}. Best is trial 0 with value: 6.7534243245664864.\u001b[0m\n"
     ]
    },
    {
     "name": "stdout",
     "output_type": "stream",
     "text": [
      "(44479, 103)\n",
      "(44479,)\n",
      "(2341, 103)\n",
      "(2341,)\n"
     ]
    },
    {
     "name": "stderr",
     "output_type": "stream",
     "text": [
      "\u001b[32m[I 2023-02-17 10:18:57,160]\u001b[0m Trial 14 finished with value: 6.753584756876941 and parameters: {'max_iter': 4000, 'tol': 0.0001, 'solver': 'sparse_cg'}. Best is trial 0 with value: 6.7534243245664864.\u001b[0m\n"
     ]
    },
    {
     "name": "stdout",
     "output_type": "stream",
     "text": [
      "(44479, 103)\n",
      "(44479,)\n",
      "(2341, 103)\n",
      "(2341,)\n",
      "(44479, 103)\n",
      "(44479,)\n",
      "(2341, 103)\n",
      "(2341,)\n"
     ]
    },
    {
     "name": "stderr",
     "output_type": "stream",
     "text": [
      "\u001b[32m[I 2023-02-17 10:18:57,366]\u001b[0m Trial 15 finished with value: 6.7534243245664864 and parameters: {'max_iter': 4000, 'tol': 0.0001, 'solver': 'lsqr'}. Best is trial 0 with value: 6.7534243245664864.\u001b[0m\n",
      "\u001b[32m[I 2023-02-17 10:18:57,612]\u001b[0m Trial 16 finished with value: 6.7534243245664864 and parameters: {'max_iter': 4000, 'tol': 0.0001, 'solver': 'lsqr'}. Best is trial 0 with value: 6.7534243245664864.\u001b[0m\n"
     ]
    },
    {
     "name": "stdout",
     "output_type": "stream",
     "text": [
      "(44479, 103)\n",
      "(44479,)\n",
      "(2341, 103)\n",
      "(2341,)\n"
     ]
    },
    {
     "name": "stderr",
     "output_type": "stream",
     "text": [
      "\u001b[32m[I 2023-02-17 10:18:57,821]\u001b[0m Trial 17 finished with value: 6.7534243245664864 and parameters: {'max_iter': 4000, 'tol': 0.0001, 'solver': 'lsqr'}. Best is trial 0 with value: 6.7534243245664864.\u001b[0m\n"
     ]
    },
    {
     "name": "stdout",
     "output_type": "stream",
     "text": [
      "(44479, 103)\n",
      "(44479,)\n",
      "(2341, 103)\n",
      "(2341,)\n"
     ]
    },
    {
     "name": "stderr",
     "output_type": "stream",
     "text": [
      "\u001b[32m[I 2023-02-17 10:18:58,027]\u001b[0m Trial 18 finished with value: 6.753583961123179 and parameters: {'max_iter': 5000, 'tol': 1e-05, 'solver': 'lsqr'}. Best is trial 0 with value: 6.7534243245664864.\u001b[0m\n"
     ]
    },
    {
     "name": "stdout",
     "output_type": "stream",
     "text": [
      "(44479, 103)\n",
      "(44479,)\n",
      "(2341, 103)\n",
      "(2341,)\n",
      "(44479, 103)\n",
      "(44479,)\n",
      "(2341, 103)\n",
      "(2341,)\n"
     ]
    },
    {
     "name": "stderr",
     "output_type": "stream",
     "text": [
      "\u001b[32m[I 2023-02-17 10:19:43,202]\u001b[0m Trial 19 finished with value: 6.766972137425879 and parameters: {'max_iter': 2000, 'tol': 0.001, 'solver': 'saga'}. Best is trial 0 with value: 6.7534243245664864.\u001b[0m\n",
      "\u001b[33m[W 2023-02-17 10:19:43,347]\u001b[0m You need to set up the pruning feature to utilize `plot_intermediate_values()`\u001b[0m\n"
     ]
    },
    {
     "name": "stdout",
     "output_type": "stream",
     "text": [
      "getting into else block\n",
      "getting into if block\n",
      "getting into if block\n",
      "getting into if block\n",
      "{'max_iter': 4000, 'tol': 0.0001, 'solver': 'lsqr'}\n",
      "0 : [6.7534243245664864]\n",
      "{'max_iter': 2000, 'tol': 0.0001, 'solver': 'svd'}\n",
      "1 : [6.753584816605659]\n",
      "{'max_iter': 4000, 'tol': 0.001, 'solver': 'cholesky'}\n",
      "2 : [6.753584816605664]\n",
      "{'max_iter': 5000, 'tol': 0.001, 'solver': 'lsqr'}\n",
      "3 : [6.753761274419008]\n",
      "{'max_iter': 4000, 'tol': 0.0001, 'solver': 'svd'}\n",
      "4 : [6.753584816605659]\n",
      "{'max_iter': 4000, 'tol': 0.0001, 'solver': 'saga'}\n",
      "5 : [6.755457102350513]\n",
      "{'max_iter': 5000, 'tol': 1e-05, 'solver': 'svd'}\n",
      "6 : [6.753584816605659]\n",
      "{'max_iter': 2000, 'tol': 1e-05, 'solver': 'cholesky'}\n",
      "7 : [6.753584816605664]\n",
      "{'max_iter': 2000, 'tol': 0.001, 'solver': 'lsqr'}\n",
      "8 : [6.753761274419008]\n",
      "{'max_iter': 5000, 'tol': 1e-05, 'solver': 'cholesky'}\n",
      "9 : [6.753584816605664]\n",
      "{'max_iter': 4000, 'tol': 0.0001, 'solver': 'sparse_cg'}\n",
      "10 : [6.753584756876941]\n",
      "{'max_iter': 4000, 'tol': 0.0001, 'solver': 'sparse_cg'}\n",
      "11 : [6.753584756876941]\n",
      "{'max_iter': 4000, 'tol': 0.0001, 'solver': 'sag'}\n",
      "12 : [6.754559480493831]\n",
      "{'max_iter': 4000, 'tol': 0.0001, 'solver': 'sparse_cg'}\n",
      "13 : [6.753584756876941]\n",
      "{'max_iter': 4000, 'tol': 0.0001, 'solver': 'sparse_cg'}\n",
      "14 : [6.753584756876941]\n",
      "{'max_iter': 4000, 'tol': 0.0001, 'solver': 'lsqr'}\n",
      "15 : [6.7534243245664864]\n",
      "{'max_iter': 4000, 'tol': 0.0001, 'solver': 'lsqr'}\n",
      "16 : [6.7534243245664864]\n",
      "{'max_iter': 4000, 'tol': 0.0001, 'solver': 'lsqr'}\n",
      "17 : [6.7534243245664864]\n",
      "{'max_iter': 5000, 'tol': 1e-05, 'solver': 'lsqr'}\n",
      "18 : [6.753583961123179]\n",
      "{'max_iter': 2000, 'tol': 0.001, 'solver': 'saga'}\n",
      "19 : [6.766972137425879]\n",
      " Best params for fold : [11/20]\n",
      "{'max_iter': 4000, 'tol': 0.0001, 'solver': 'lsqr'}\n",
      "[++] Saving the model and parameters in corresponding directories\n",
      "0: [6.7534243245664864]\n",
      "1: [6.753584816605659]\n",
      "2: [6.753584816605664]\n",
      "3: [6.753761274419008]\n",
      "4: [6.753584816605659]\n",
      "5: [6.755457102350513]\n",
      "6: [6.753584816605659]\n",
      "7: [6.753584816605664]\n",
      "8: [6.753761274419008]\n",
      "9: [6.753584816605664]\n",
      "10: [6.753584756876941]\n",
      "11: [6.753584756876941]\n",
      "12: [6.754559480493831]\n",
      "13: [6.753584756876941]\n",
      "14: [6.753584756876941]\n",
      "15: [6.7534243245664864]\n",
      "16: [6.7534243245664864]\n",
      "17: [6.7534243245664864]\n",
      "18: [6.753583961123179]\n",
      "19: [6.766972137425879]\n",
      "[++] Ended the training process for fold 11\n",
      "(46820,)\n",
      "(46820, 103)\n",
      "[++] Saving the model and parameters in corresponding directories\n",
      "[++] Ended the training process for fold 0\n",
      "(46820,)\n",
      "(46820, 103)\n",
      "[++] Saving the model and parameters in corresponding directories\n",
      "[++] Ended the training process for fold 1\n",
      "(46820,)\n",
      "(46820, 103)\n",
      "[++] Saving the model and parameters in corresponding directories\n",
      "[++] Ended the training process for fold 2\n",
      "(46820,)\n",
      "(46820, 103)\n",
      "[++] Saving the model and parameters in corresponding directories\n",
      "[++] Ended the training process for fold 3\n",
      "(46820,)\n",
      "(46820, 103)\n",
      "[++] Saving the model and parameters in corresponding directories\n",
      "[++] Ended the training process for fold 4\n",
      "(46820,)\n",
      "(46820, 103)\n",
      "[++] Saving the model and parameters in corresponding directories\n",
      "[++] Ended the training process for fold 5\n",
      "(46820,)\n",
      "(46820, 103)\n",
      "[++] Saving the model and parameters in corresponding directories\n",
      "[++] Ended the training process for fold 6\n",
      "(46820,)\n",
      "(46820, 103)\n",
      "[++] Saving the model and parameters in corresponding directories\n",
      "[++] Ended the training process for fold 7\n",
      "(46820,)\n",
      "(46820, 103)\n",
      "[++] Saving the model and parameters in corresponding directories\n",
      "[++] Ended the training process for fold 8\n",
      "(46820,)\n",
      "(46820, 103)\n",
      "[++] Saving the model and parameters in corresponding directories\n",
      "[++] Ended the training process for fold 9\n",
      "(46820,)\n",
      "(46820, 103)\n",
      "[++] Saving the model and parameters in corresponding directories\n",
      "[++] Ended the training process for fold 10\n",
      "(46820,)\n",
      "(46820, 103)\n",
      "[++] Saving the model and parameters in corresponding directories\n",
      "[++] Ended the training process for fold 11\n",
      "(46820,)\n",
      "(46820, 103)\n",
      "[++] Saving the model and parameters in corresponding directories\n",
      "[++] Ended the training process for fold 12\n",
      "(46820,)\n",
      "(46820, 103)\n",
      "[++] Saving the model and parameters in corresponding directories\n",
      "[++] Ended the training process for fold 13\n",
      "(46820,)\n",
      "(46820, 103)\n",
      "[++] Saving the model and parameters in corresponding directories\n",
      "[++] Ended the training process for fold 14\n",
      "(46820,)\n",
      "(46820, 103)\n",
      "[++] Saving the model and parameters in corresponding directories\n",
      "[++] Ended the training process for fold 15\n",
      "(46820,)\n",
      "(46820, 103)\n",
      "[++] Saving the model and parameters in corresponding directories\n",
      "[++] Ended the training process for fold 16\n",
      "(46820,)\n",
      "(46820, 103)\n",
      "[++] Saving the model and parameters in corresponding directories\n",
      "[++] Ended the training process for fold 17\n",
      "(46820,)\n",
      "(46820, 103)\n",
      "[++] Saving the model and parameters in corresponding directories\n",
      "[++] Ended the training process for fold 18\n",
      "(46820,)\n",
      "(46820, 103)\n",
      "[++] Saving the model and parameters in corresponding directories\n",
      "[++] Ended the training process for fold 19\n"
     ]
    }
   ],
   "source": [
    "use_df = pd.read_csv(\"../input/perov-scaled-data/scaled_trainable.csv\")\n",
    "tar_col = \"JV_default_PCE_numeric\"\n",
    "model_name = \"ridge_reg\"\n",
    "fold_dict = joblib.load(\"../input/perov-fold-data/fold_data_export.z\")\n",
    "optim = \"no_optim\"\n",
    "k_folds = 20\n",
    "trial_fold = random.choice([x for x in range(k_folds)])\n",
    "num_trials = 20\n",
    "\n",
    "trial_data,best_params = train_trial(fold_dict = fold_dict,\n",
    "      fold = trial_fold,\n",
    "      k_folds=k_folds,\n",
    "      model_name=model_name,\n",
    "      sc_df=use_df,\n",
    "      tar_col=tar_col,\n",
    "      optim = optim,\n",
    "      optim_trial = num_trials)\n",
    "for key,value in trial_data.items():\n",
    "  print(f\"{key}: {value['rmse']}\")\n",
    "print(f\"[++] Ended the training process for fold {trial_fold}\")\n",
    "\n",
    "\n",
    "main_folds = [x for x in range(k_folds)]\n",
    "for fold in main_folds:\n",
    "    train(fold_dict = fold_dict,\n",
    "          fold = fold,\n",
    "          k_folds=k_folds,\n",
    "          model_name=model_name,\n",
    "          sc_df=use_df,\n",
    "          tar_col=tar_col,\n",
    "          optim = optim,\n",
    "          best_params = best_params)\n",
    "    print(f\"[++] Ended the training process for fold {fold}\")"
   ]
  },
  {
   "cell_type": "code",
   "execution_count": null,
   "id": "4a12dee6",
   "metadata": {
    "papermill": {
     "duration": 0.037834,
     "end_time": "2023-02-17T10:19:51.985055",
     "exception": false,
     "start_time": "2023-02-17T10:19:51.947221",
     "status": "completed"
    },
    "tags": []
   },
   "outputs": [],
   "source": []
  },
  {
   "cell_type": "code",
   "execution_count": null,
   "id": "f0e1f65e",
   "metadata": {
    "papermill": {
     "duration": 0.015711,
     "end_time": "2023-02-17T10:19:52.017325",
     "exception": false,
     "start_time": "2023-02-17T10:19:52.001614",
     "status": "completed"
    },
    "tags": []
   },
   "outputs": [],
   "source": []
  },
  {
   "cell_type": "code",
   "execution_count": null,
   "id": "6329c06c",
   "metadata": {
    "papermill": {
     "duration": 0.01519,
     "end_time": "2023-02-17T10:19:52.048210",
     "exception": false,
     "start_time": "2023-02-17T10:19:52.033020",
     "status": "completed"
    },
    "tags": []
   },
   "outputs": [],
   "source": [
    " "
   ]
  }
 ],
 "metadata": {
  "kernelspec": {
   "display_name": "Python 3",
   "language": "python",
   "name": "python3"
  },
  "language_info": {
   "codemirror_mode": {
    "name": "ipython",
    "version": 3
   },
   "file_extension": ".py",
   "mimetype": "text/x-python",
   "name": "python",
   "nbconvert_exporter": "python",
   "pygments_lexer": "ipython3",
   "version": "3.7.12"
  },
  "papermill": {
   "default_parameters": {},
   "duration": 582.215249,
   "end_time": "2023-02-17T10:19:54.689264",
   "environment_variables": {},
   "exception": null,
   "input_path": "__notebook__.ipynb",
   "output_path": "__notebook__.ipynb",
   "parameters": {},
   "start_time": "2023-02-17T10:10:12.474015",
   "version": "2.3.4"
  }
 },
 "nbformat": 4,
 "nbformat_minor": 5
}
