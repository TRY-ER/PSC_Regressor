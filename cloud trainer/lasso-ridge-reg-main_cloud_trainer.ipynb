{
 "cells": [
  {
   "cell_type": "code",
   "execution_count": 1,
   "id": "e7362abf",
   "metadata": {
    "_cell_guid": "b1076dfc-b9ad-4769-8c92-a6c4dae69d19",
    "_uuid": "8f2839f25d086af736a60e9eeb907d3b93b6e0e5",
    "execution": {
     "iopub.execute_input": "2023-01-01T12:54:43.844647Z",
     "iopub.status.busy": "2023-01-01T12:54:43.844219Z",
     "iopub.status.idle": "2023-01-01T12:54:45.776300Z",
     "shell.execute_reply": "2023-01-01T12:54:45.774874Z"
    },
    "papermill": {
     "duration": 1.93915,
     "end_time": "2023-01-01T12:54:45.779206",
     "exception": false,
     "start_time": "2023-01-01T12:54:43.840056",
     "status": "completed"
    },
    "tags": []
   },
   "outputs": [],
   "source": [
    "import pandas as pd\n",
    "import numpy as np\n",
    "# from xgboost import XGBRegressor\n",
    "# import torch\n",
    "# from pytorch_tabnet.tab_model import TabNetRegressor\n",
    "from sklearn.metrics import accuracy_score,mean_squared_error,mean_absolute_error,r2_score\n",
    "# from sklearn.linear_model import Lasso\n",
    "from sklearn.linear_model import Ridge\n",
    "import optuna as opt\n",
    "import joblib\n",
    "import random\n",
    "import os"
   ]
  },
  {
   "cell_type": "code",
   "execution_count": 2,
   "id": "f322d7c4",
   "metadata": {
    "execution": {
     "iopub.execute_input": "2023-01-01T12:54:45.785635Z",
     "iopub.status.busy": "2023-01-01T12:54:45.785242Z",
     "iopub.status.idle": "2023-01-01T12:54:45.797508Z",
     "shell.execute_reply": "2023-01-01T12:54:45.795738Z"
    },
    "papermill": {
     "duration": 0.018194,
     "end_time": "2023-01-01T12:54:45.800139",
     "exception": false,
     "start_time": "2023-01-01T12:54:45.781945",
     "status": "completed"
    },
    "tags": []
   },
   "outputs": [],
   "source": [
    "def make_save_cv_model(i,model_name,model,optim,mse_loss,trial_data,output_path=\"./\"):\n",
    "\n",
    "    ''' This function saves cross validation model in the corresponding directory ( if the path does not exist it creates the path for it'''\n",
    "\n",
    "\n",
    "    if os.path.exists(os.path.join(output_path,f\"trial_{i}_{model_name}_{optim}\")):\n",
    "        joblib.dump(model, os.path.join(output_path,f\"trial_{i}_{model_name}_{optim}/{i}_model.z\"))\n",
    "        with open(os.path.join(output_path,f\"trial_{i}_{model_name}_{optim}/losses.txt\"),\"w+\") as file:file.write(f\" mse_loss :: {str(mse_loss)}\")\n",
    "        joblib.dump(trial_data, os.path.join(output_path,f\"trial_{i}_{model_name}_{optim}/{i}_trial_data.z\"))\n",
    "    else:\n",
    "        os.mkdir(os.path.join(output_path,f\"trial_{i}_{model_name}_{optim}\"))\n",
    "        joblib.dump(model, os.path.join(output_path,f\"trial_{i}_{model_name}_{optim}/{i}_model.z\"))\n",
    "        with open(os.path.join(output_path,f\"trial_{i}_{model_name}_{optim}/losses.txt\"),\"w+\") as file:file.write(f\" mse_loss :: {str(mse_loss)}\")\n",
    "        joblib.dump(trial_data, os.path.join(output_path,f\"trial_{i}_{model_name}_{optim}/{i}_trial_data.z\"))"
   ]
  },
  {
   "cell_type": "code",
   "execution_count": 3,
   "id": "0346ef00",
   "metadata": {
    "execution": {
     "iopub.execute_input": "2023-01-01T12:54:45.806616Z",
     "iopub.status.busy": "2023-01-01T12:54:45.806232Z",
     "iopub.status.idle": "2023-01-01T12:54:45.814479Z",
     "shell.execute_reply": "2023-01-01T12:54:45.813175Z"
    },
    "papermill": {
     "duration": 0.013956,
     "end_time": "2023-01-01T12:54:45.816518",
     "exception": false,
     "start_time": "2023-01-01T12:54:45.802562",
     "status": "completed"
    },
    "tags": []
   },
   "outputs": [],
   "source": [
    "def save_cv_model(i,model_name,model,optim,mse_loss,output_path=\"./\"):\n",
    "\n",
    "    ''' This function saves cross validation model in the corresponding directory ( if the path does not exist it creates the path for it'''\n",
    "\n",
    "\n",
    "    if os.path.exists(os.path.join(output_path,f\"{i}_{model_name}_{optim}\")):\n",
    "        joblib.dump(model, os.path.join(output_path,f\"{i}_{model_name}_{optim}/{i}_model.z\"))\n",
    "        with open(os.path.join(output_path,f\"{i}_{model_name}_{optim}/losses_{fold}.txt\"),\"w+\") as file:file.write(f\" mse_loss :: {str(mse_loss)}\")\n",
    "    else:\n",
    "        os.mkdir(os.path.join(output_path,f\"{i}_{model_name}_{optim}\"))\n",
    "        joblib.dump(model, os.path.join(output_path,f\"{i}_{model_name}_{optim}/{i}_model.z\"))\n",
    "        with open(os.path.join(output_path,f\"{i}_{model_name}_{optim}/losses_{fold}.txt\"),\"w+\") as file:file.write(f\" mse_loss :: {str(mse_loss)}\")"
   ]
  },
  {
   "cell_type": "code",
   "execution_count": 4,
   "id": "134b6d9d",
   "metadata": {
    "execution": {
     "iopub.execute_input": "2023-01-01T12:54:45.824366Z",
     "iopub.status.busy": "2023-01-01T12:54:45.823050Z",
     "iopub.status.idle": "2023-01-01T12:54:45.830964Z",
     "shell.execute_reply": "2023-01-01T12:54:45.829331Z"
    },
    "papermill": {
     "duration": 0.014871,
     "end_time": "2023-01-01T12:54:45.833740",
     "exception": false,
     "start_time": "2023-01-01T12:54:45.818869",
     "status": "completed"
    },
    "tags": []
   },
   "outputs": [],
   "source": [
    "def get_trial_data(trial) -> list:\n",
    "  ''' This function takes the trial objects and returns the dictionary containing the trial details for plotting and comparing purposes '''\n",
    "  trial_data = trial.get_trials()\n",
    "  value_dict = {}\n",
    "  for i in trial_data:\n",
    "    print(i.params)\n",
    "    value_dict[i.number] = {\"params\": i.params , \"rmse\": i.values}\n",
    "    print(f\"{i.number} : {i.values}\")\n",
    "  return value_dict"
   ]
  },
  {
   "cell_type": "code",
   "execution_count": 5,
   "id": "2c488cee",
   "metadata": {
    "execution": {
     "iopub.execute_input": "2023-01-01T12:54:45.840288Z",
     "iopub.status.busy": "2023-01-01T12:54:45.839939Z",
     "iopub.status.idle": "2023-01-01T12:54:45.856999Z",
     "shell.execute_reply": "2023-01-01T12:54:45.855650Z"
    },
    "papermill": {
     "duration": 0.022812,
     "end_time": "2023-01-01T12:54:45.859092",
     "exception": false,
     "start_time": "2023-01-01T12:54:45.836280",
     "status": "completed"
    },
    "tags": []
   },
   "outputs": [],
   "source": [
    "def train_trial(fold_dict,fold,model_name,sc_df,tar_col,optim,optim_trial,k_folds,tar_cols=\"\",verbose=1):\n",
    "\n",
    "    ''' this function is used to train the model with parameters optimization using optuna and cross validation using stratified k_folds'''\n",
    "\n",
    "    y = sc_df[tar_col]\n",
    "    print(y.shape)\n",
    "    x = sc_df.drop([tar_col],axis=1)\n",
    "    print(x.shape)\n",
    "    model_name = model_name \n",
    "    def objective(trial):\n",
    "      train_index = fold_dict[fold][\"train\"]\n",
    "      test_index = fold_dict[fold][\"test\"]\n",
    "      clf = Ridge(max_iter = trial.suggest_categorical(\"max_iter\",[2000,4000,5000]),\n",
    "                 tol = trial.suggest_categorical(\"tol\",[1e-4,1e-3,1e-5]),\n",
    "                 solver = trial.suggest_categorical(\"solver\",[\"svd\", \"cholesky\", \"lsqr\", \"sparse_cg\", \"sag\", \"saga\"]),\n",
    "                 random_state=1234)\n",
    "      # print(f\" train_index :: {train_index}\")\n",
    "      # print(f\" test_index :: {test_index}\")\n",
    "      X_train,X_test = x.iloc[train_index,:], x.iloc[test_index,:]\n",
    "      # print(X_train.shape, X_test.shape)\n",
    "      X_train, X_test = X_train.to_numpy(dtype=np.float64), X_test.to_numpy(dtype=np.float64)\n",
    "      Y_train, Y_test = y.iloc[train_index].to_numpy(dtype=np.float64), y.iloc[test_index].to_numpy(np.float64)\n",
    "      # Y_train, Y_test = Y_train.to_numpy(dtype=np.float64), Y_test.to_numpy(dtype=np.float64)\n",
    "      print(X_train.shape)\n",
    "      print(Y_train.shape)\n",
    "      print(X_test.shape)\n",
    "      print(Y_test.shape)\n",
    "      clf.fit(X_train, Y_train)\n",
    "      Y_pred = clf.predict(X_test)\n",
    "      mse_error = mean_squared_error(Y_pred, Y_test, squared=False)\n",
    "      return mse_error\n",
    "\n",
    "    print(f\"Starting optimization for fold : [{fold}/{k_folds}]\")\n",
    "    study = opt.create_study(direction='minimize')\n",
    "    study.optimize(objective, n_trials=optim_trial)\n",
    "    best_params = study.best_params\n",
    "    trial_data = get_trial_data(study)\n",
    "    print(f\" Best params for fold : [{fold}/{k_folds}]\")\n",
    "    print(best_params)\n",
    "    train_index = fold_dict[fold][\"train\"]\n",
    "    test_index = fold_dict[fold][\"test\"]\n",
    "    X_train,X_test = x.iloc[train_index,:], x.iloc[test_index,:]\n",
    "    # print(X_train.shape, X_test.shape)\n",
    "    X_train, X_test = X_train.to_numpy(dtype=np.float64), X_test.to_numpy(dtype=np.float64)\n",
    "    Y_train, Y_test = y.iloc[train_index], y.iloc[test_index]\n",
    "    Y_train, Y_test = Y_train.to_numpy(dtype=np.float64), Y_test.to_numpy(dtype=np.float64)\n",
    "    clf_model = Ridge(**study.best_params)\n",
    "    clf_model.fit(X_train,Y_train)\n",
    "    Y_pred = clf_model.predict(X_test)\n",
    "    error =  clf_model.predict(X_test)\n",
    "    error = {\"mse_error\" : mean_squared_error(Y_pred, Y_test, squared=False),\n",
    "    \"mae_error\" : mean_absolute_error(Y_pred,Y_test),\n",
    "    \"rmse_error\" : mean_squared_error(Y_pred, Y_test),\n",
    "    \"r2_score\" : r2_score(Y_pred,Y_test) }\n",
    "    # try:\n",
    "    print(\"[++] Saving the model and parameters in corresponding directories\")\n",
    "    make_save_cv_model(fold,model_name,clf_model,optim,mse_loss=error,trial_data=trial_data)\n",
    "    return trial_data,best_params"
   ]
  },
  {
   "cell_type": "code",
   "execution_count": 6,
   "id": "ab8d82ab",
   "metadata": {
    "execution": {
     "iopub.execute_input": "2023-01-01T12:54:45.865508Z",
     "iopub.status.busy": "2023-01-01T12:54:45.865151Z",
     "iopub.status.idle": "2023-01-01T12:54:45.876100Z",
     "shell.execute_reply": "2023-01-01T12:54:45.874705Z"
    },
    "papermill": {
     "duration": 0.016669,
     "end_time": "2023-01-01T12:54:45.878431",
     "exception": false,
     "start_time": "2023-01-01T12:54:45.861762",
     "status": "completed"
    },
    "tags": []
   },
   "outputs": [],
   "source": [
    "def train(fold_dict,fold,model_name,sc_df,tar_col,optim,k_folds,best_params,tar_cols=\"\",verbose=1):\n",
    "\n",
    "    ''' this function is used to train the model with parameters optimization using optuna and cross validation using stratified k_folds'''\n",
    "\n",
    "    y = sc_df[tar_col]\n",
    "    print(y.shape)\n",
    "    x = sc_df.drop([tar_col],axis=1)\n",
    "    print(x.shape)\n",
    "    model_name = model_name \n",
    "    train_index = fold_dict[fold][\"train\"]\n",
    "    test_index = fold_dict[fold][\"test\"]\n",
    "    X_train,X_test = x.iloc[train_index,:], x.iloc[test_index,:]\n",
    "    # print(X_train.shape, X_test.shape)\n",
    "    X_train, X_test = X_train.to_numpy(dtype=np.float64), X_test.to_numpy(dtype=np.float64)\n",
    "    Y_train, Y_test = y.iloc[train_index], y.iloc[test_index]\n",
    "    Y_train, Y_test = Y_train.to_numpy(dtype=np.float64), Y_test.to_numpy(dtype=np.float64)\n",
    "    clf_model = Ridge(**best_params)\n",
    "    Y_train = Y_train.reshape(-1,1)\n",
    "    clf_model.fit(X_train,Y_train)\n",
    "    Y_pred = clf_model.predict(X_test)\n",
    "    error = {\n",
    "    \"mse_error\" : mean_squared_error(Y_pred, Y_test, squared=False),\n",
    "    \"mae_error\" : mean_absolute_error(Y_pred,Y_test),\n",
    "    \"rmse_error\" : mean_squared_error(Y_pred, Y_test),\n",
    "    \"r2_score\" : r2_score(Y_pred,Y_test) }\n",
    "    # try:\n",
    "    print(\"[++] Saving the model and parameters in corresponding directories\")\n",
    "    save_cv_model(fold,model_name,clf_model,optim,mse_loss=error)"
   ]
  },
  {
   "cell_type": "code",
   "execution_count": 7,
   "id": "40f9915b",
   "metadata": {
    "execution": {
     "iopub.execute_input": "2023-01-01T12:54:45.884922Z",
     "iopub.status.busy": "2023-01-01T12:54:45.884321Z",
     "iopub.status.idle": "2023-01-01T13:14:07.469765Z",
     "shell.execute_reply": "2023-01-01T13:14:07.468934Z"
    },
    "papermill": {
     "duration": 1161.591219,
     "end_time": "2023-01-01T13:14:07.472188",
     "exception": false,
     "start_time": "2023-01-01T12:54:45.880969",
     "status": "completed"
    },
    "tags": []
   },
   "outputs": [
    {
     "name": "stderr",
     "output_type": "stream",
     "text": [
      "\u001b[32m[I 2023-01-01 12:54:47,791]\u001b[0m A new study created in memory with name: no-name-ed55acaf-47f1-4cfc-9ffd-55beadebe20b\u001b[0m\n"
     ]
    },
    {
     "name": "stdout",
     "output_type": "stream",
     "text": [
      "(46820,)\n",
      "(46820, 103)\n",
      "Starting optimization for fold : [1/20]\n",
      "(44479, 103)\n",
      "(44479,)\n",
      "(2341, 103)\n",
      "(2341,)\n"
     ]
    },
    {
     "name": "stderr",
     "output_type": "stream",
     "text": [
      "\u001b[32m[I 2023-01-01 13:00:27,672]\u001b[0m Trial 0 finished with value: 6.58362344468907 and parameters: {'max_iter': 4000, 'tol': 1e-05, 'solver': 'sag'}. Best is trial 0 with value: 6.58362344468907.\u001b[0m\n"
     ]
    },
    {
     "name": "stdout",
     "output_type": "stream",
     "text": [
      "(44479, 103)\n",
      "(44479,)\n",
      "(2341, 103)\n",
      "(2341,)\n"
     ]
    },
    {
     "name": "stderr",
     "output_type": "stream",
     "text": [
      "\u001b[32m[I 2023-01-01 13:01:09,521]\u001b[0m Trial 1 finished with value: 6.597167727345976 and parameters: {'max_iter': 2000, 'tol': 0.001, 'solver': 'saga'}. Best is trial 0 with value: 6.58362344468907.\u001b[0m\n"
     ]
    },
    {
     "name": "stdout",
     "output_type": "stream",
     "text": [
      "(44479, 103)\n",
      "(44479,)\n",
      "(2341, 103)\n",
      "(2341,)\n"
     ]
    },
    {
     "name": "stderr",
     "output_type": "stream",
     "text": [
      "\u001b[32m[I 2023-01-01 13:01:09,760]\u001b[0m Trial 2 finished with value: 6.5835290602572245 and parameters: {'max_iter': 4000, 'tol': 1e-05, 'solver': 'svd'}. Best is trial 2 with value: 6.5835290602572245.\u001b[0m\n"
     ]
    },
    {
     "name": "stdout",
     "output_type": "stream",
     "text": [
      "(44479, 103)\n",
      "(44479,)\n",
      "(2341, 103)\n",
      "(2341,)\n"
     ]
    },
    {
     "name": "stderr",
     "output_type": "stream",
     "text": [
      "\u001b[32m[I 2023-01-01 13:01:51,488]\u001b[0m Trial 3 finished with value: 6.597167727345976 and parameters: {'max_iter': 2000, 'tol': 0.001, 'solver': 'saga'}. Best is trial 2 with value: 6.5835290602572245.\u001b[0m\n",
      "\u001b[32m[I 2023-01-01 13:01:51,569]\u001b[0m Trial 4 finished with value: 6.583513741973652 and parameters: {'max_iter': 5000, 'tol': 0.0001, 'solver': 'sparse_cg'}. Best is trial 4 with value: 6.583513741973652.\u001b[0m\n"
     ]
    },
    {
     "name": "stdout",
     "output_type": "stream",
     "text": [
      "(44479, 103)\n",
      "(44479,)\n",
      "(2341, 103)\n",
      "(2341,)\n",
      "(44479, 103)\n",
      "(44479,)\n",
      "(2341, 103)\n",
      "(2341,)\n"
     ]
    },
    {
     "name": "stderr",
     "output_type": "stream",
     "text": [
      "\u001b[32m[I 2023-01-01 13:04:59,264]\u001b[0m Trial 5 finished with value: 6.584440212197521 and parameters: {'max_iter': 2000, 'tol': 0.0001, 'solver': 'sag'}. Best is trial 4 with value: 6.583513741973652.\u001b[0m\n",
      "\u001b[32m[I 2023-01-01 13:04:59,343]\u001b[0m Trial 6 finished with value: 6.583540253589651 and parameters: {'max_iter': 2000, 'tol': 1e-05, 'solver': 'lsqr'}. Best is trial 4 with value: 6.583513741973652.\u001b[0m\n",
      "\u001b[32m[I 2023-01-01 13:04:59,428]\u001b[0m Trial 7 finished with value: 6.583540253589651 and parameters: {'max_iter': 2000, 'tol': 1e-05, 'solver': 'lsqr'}. Best is trial 4 with value: 6.583513741973652.\u001b[0m\n"
     ]
    },
    {
     "name": "stdout",
     "output_type": "stream",
     "text": [
      "(44479, 103)\n",
      "(44479,)\n",
      "(2341, 103)\n",
      "(2341,)\n",
      "(44479, 103)\n",
      "(44479,)\n",
      "(2341, 103)\n",
      "(2341,)\n",
      "(44479, 103)\n",
      "(44479,)\n",
      "(2341, 103)\n",
      "(2341,)\n"
     ]
    },
    {
     "name": "stderr",
     "output_type": "stream",
     "text": [
      "\u001b[32m[I 2023-01-01 13:10:40,382]\u001b[0m Trial 8 finished with value: 6.58362344468907 and parameters: {'max_iter': 4000, 'tol': 1e-05, 'solver': 'sag'}. Best is trial 4 with value: 6.583513741973652.\u001b[0m\n"
     ]
    },
    {
     "name": "stdout",
     "output_type": "stream",
     "text": [
      "(44479, 103)\n",
      "(44479,)\n",
      "(2341, 103)\n",
      "(2341,)\n"
     ]
    },
    {
     "name": "stderr",
     "output_type": "stream",
     "text": [
      "/opt/conda/lib/python3.7/site-packages/sklearn/linear_model/_sag.py:354: ConvergenceWarning: The max_iter was reached which means the coef_ did not converge\n",
      "  ConvergenceWarning,\n",
      "\u001b[32m[I 2023-01-01 13:14:05,237]\u001b[0m Trial 9 finished with value: 6.586980254476669 and parameters: {'max_iter': 2000, 'tol': 1e-05, 'solver': 'saga'}. Best is trial 4 with value: 6.583513741973652.\u001b[0m\n",
      "\u001b[32m[I 2023-01-01 13:14:05,314]\u001b[0m Trial 10 finished with value: 6.583513741973652 and parameters: {'max_iter': 5000, 'tol': 0.0001, 'solver': 'sparse_cg'}. Best is trial 4 with value: 6.583513741973652.\u001b[0m\n",
      "\u001b[32m[I 2023-01-01 13:14:05,385]\u001b[0m Trial 11 finished with value: 6.583513741973652 and parameters: {'max_iter': 5000, 'tol': 0.0001, 'solver': 'sparse_cg'}. Best is trial 4 with value: 6.583513741973652.\u001b[0m\n"
     ]
    },
    {
     "name": "stdout",
     "output_type": "stream",
     "text": [
      "(44479, 103)\n",
      "(44479,)\n",
      "(2341, 103)\n",
      "(2341,)\n",
      "(44479, 103)\n",
      "(44479,)\n",
      "(2341, 103)\n",
      "(2341,)\n",
      "(44479, 103)\n",
      "(44479,)\n",
      "(2341, 103)\n",
      "(2341,)\n"
     ]
    },
    {
     "name": "stderr",
     "output_type": "stream",
     "text": [
      "\u001b[32m[I 2023-01-01 13:14:05,463]\u001b[0m Trial 12 finished with value: 6.583513741973652 and parameters: {'max_iter': 5000, 'tol': 0.0001, 'solver': 'sparse_cg'}. Best is trial 4 with value: 6.583513741973652.\u001b[0m\n",
      "\u001b[32m[I 2023-01-01 13:14:05,544]\u001b[0m Trial 13 finished with value: 6.583513741973652 and parameters: {'max_iter': 5000, 'tol': 0.0001, 'solver': 'sparse_cg'}. Best is trial 4 with value: 6.583513741973652.\u001b[0m\n",
      "\u001b[32m[I 2023-01-01 13:14:05,639]\u001b[0m Trial 14 finished with value: 6.583529060257231 and parameters: {'max_iter': 5000, 'tol': 0.0001, 'solver': 'cholesky'}. Best is trial 4 with value: 6.583513741973652.\u001b[0m\n"
     ]
    },
    {
     "name": "stdout",
     "output_type": "stream",
     "text": [
      "(44479, 103)\n",
      "(44479,)\n",
      "(2341, 103)\n",
      "(2341,)\n",
      "(44479, 103)\n",
      "(44479,)\n",
      "(2341, 103)\n",
      "(2341,)\n",
      "{'max_iter': 4000, 'tol': 1e-05, 'solver': 'sag'}\n",
      "0 : [6.58362344468907]\n",
      "{'max_iter': 2000, 'tol': 0.001, 'solver': 'saga'}\n",
      "1 : [6.597167727345976]\n",
      "{'max_iter': 4000, 'tol': 1e-05, 'solver': 'svd'}\n",
      "2 : [6.5835290602572245]\n",
      "{'max_iter': 2000, 'tol': 0.001, 'solver': 'saga'}\n",
      "3 : [6.597167727345976]\n",
      "{'max_iter': 5000, 'tol': 0.0001, 'solver': 'sparse_cg'}\n",
      "4 : [6.583513741973652]\n",
      "{'max_iter': 2000, 'tol': 0.0001, 'solver': 'sag'}\n",
      "5 : [6.584440212197521]\n",
      "{'max_iter': 2000, 'tol': 1e-05, 'solver': 'lsqr'}\n",
      "6 : [6.583540253589651]\n",
      "{'max_iter': 2000, 'tol': 1e-05, 'solver': 'lsqr'}\n",
      "7 : [6.583540253589651]\n",
      "{'max_iter': 4000, 'tol': 1e-05, 'solver': 'sag'}\n",
      "8 : [6.58362344468907]\n",
      "{'max_iter': 2000, 'tol': 1e-05, 'solver': 'saga'}\n",
      "9 : [6.586980254476669]\n",
      "{'max_iter': 5000, 'tol': 0.0001, 'solver': 'sparse_cg'}\n",
      "10 : [6.583513741973652]\n",
      "{'max_iter': 5000, 'tol': 0.0001, 'solver': 'sparse_cg'}\n",
      "11 : [6.583513741973652]\n",
      "{'max_iter': 5000, 'tol': 0.0001, 'solver': 'sparse_cg'}\n",
      "12 : [6.583513741973652]\n",
      "{'max_iter': 5000, 'tol': 0.0001, 'solver': 'sparse_cg'}\n",
      "13 : [6.583513741973652]\n",
      "{'max_iter': 5000, 'tol': 0.0001, 'solver': 'cholesky'}\n",
      "14 : [6.583529060257231]\n",
      " Best params for fold : [1/20]\n",
      "{'max_iter': 5000, 'tol': 0.0001, 'solver': 'sparse_cg'}\n",
      "[++] Saving the model and parameters in corresponding directories\n",
      "0: [6.58362344468907]\n",
      "1: [6.597167727345976]\n",
      "2: [6.5835290602572245]\n",
      "3: [6.597167727345976]\n",
      "4: [6.583513741973652]\n",
      "5: [6.584440212197521]\n",
      "6: [6.583540253589651]\n",
      "7: [6.583540253589651]\n",
      "8: [6.58362344468907]\n",
      "9: [6.586980254476669]\n",
      "10: [6.583513741973652]\n",
      "11: [6.583513741973652]\n",
      "12: [6.583513741973652]\n",
      "13: [6.583513741973652]\n",
      "14: [6.583529060257231]\n",
      "[++] Ended the training process for fold 1\n",
      "(46820,)\n",
      "(46820, 103)\n",
      "[++] Saving the model and parameters in corresponding directories\n",
      "[++] Ended the training process for fold 0\n",
      "(46820,)\n",
      "(46820, 103)\n",
      "[++] Saving the model and parameters in corresponding directories\n",
      "[++] Ended the training process for fold 1\n",
      "(46820,)\n",
      "(46820, 103)\n",
      "[++] Saving the model and parameters in corresponding directories\n",
      "[++] Ended the training process for fold 2\n",
      "(46820,)\n",
      "(46820, 103)\n",
      "[++] Saving the model and parameters in corresponding directories\n",
      "[++] Ended the training process for fold 3\n",
      "(46820,)\n",
      "(46820, 103)\n",
      "[++] Saving the model and parameters in corresponding directories\n",
      "[++] Ended the training process for fold 4\n",
      "(46820,)\n",
      "(46820, 103)\n",
      "[++] Saving the model and parameters in corresponding directories\n",
      "[++] Ended the training process for fold 5\n",
      "(46820,)\n",
      "(46820, 103)\n",
      "[++] Saving the model and parameters in corresponding directories\n",
      "[++] Ended the training process for fold 6\n",
      "(46820,)\n",
      "(46820, 103)\n",
      "[++] Saving the model and parameters in corresponding directories\n",
      "[++] Ended the training process for fold 7\n",
      "(46820,)\n",
      "(46820, 103)\n",
      "[++] Saving the model and parameters in corresponding directories\n",
      "[++] Ended the training process for fold 8\n",
      "(46820,)\n",
      "(46820, 103)\n",
      "[++] Saving the model and parameters in corresponding directories\n",
      "[++] Ended the training process for fold 9\n",
      "(46820,)\n",
      "(46820, 103)\n",
      "[++] Saving the model and parameters in corresponding directories\n",
      "[++] Ended the training process for fold 10\n",
      "(46820,)\n",
      "(46820, 103)\n",
      "[++] Saving the model and parameters in corresponding directories\n",
      "[++] Ended the training process for fold 11\n",
      "(46820,)\n",
      "(46820, 103)\n",
      "[++] Saving the model and parameters in corresponding directories\n",
      "[++] Ended the training process for fold 12\n",
      "(46820,)\n",
      "(46820, 103)\n",
      "[++] Saving the model and parameters in corresponding directories\n",
      "[++] Ended the training process for fold 13\n",
      "(46820,)\n",
      "(46820, 103)\n",
      "[++] Saving the model and parameters in corresponding directories\n",
      "[++] Ended the training process for fold 14\n",
      "(46820,)\n",
      "(46820, 103)\n",
      "[++] Saving the model and parameters in corresponding directories\n",
      "[++] Ended the training process for fold 15\n",
      "(46820,)\n",
      "(46820, 103)\n",
      "[++] Saving the model and parameters in corresponding directories\n",
      "[++] Ended the training process for fold 16\n",
      "(46820,)\n",
      "(46820, 103)\n",
      "[++] Saving the model and parameters in corresponding directories\n",
      "[++] Ended the training process for fold 17\n",
      "(46820,)\n",
      "(46820, 103)\n",
      "[++] Saving the model and parameters in corresponding directories\n",
      "[++] Ended the training process for fold 18\n",
      "(46820,)\n",
      "(46820, 103)\n",
      "[++] Saving the model and parameters in corresponding directories\n",
      "[++] Ended the training process for fold 19\n"
     ]
    }
   ],
   "source": [
    "use_df = pd.read_csv(\"../input/perov-scaled-data/scaled_trainable.csv\")\n",
    "tar_col = \"JV_default_PCE_numeric\"\n",
    "model_name = \"ridge_reg\"\n",
    "fold_dict = joblib.load(\"../input/perov-fold-data/fold_data_export.z\")\n",
    "optim = \"no_optim\"\n",
    "k_folds = 20\n",
    "trial_fold = random.choice([x for x in range(k_folds)])\n",
    "num_trials = 15\n",
    "\n",
    "trial_data,best_params = train_trial(fold_dict = fold_dict,\n",
    "      fold = trial_fold,\n",
    "      k_folds=k_folds,\n",
    "      model_name=model_name,\n",
    "      sc_df=use_df,\n",
    "      tar_col=tar_col,\n",
    "      optim = optim,\n",
    "      optim_trial = num_trials)\n",
    "for key,value in trial_data.items():\n",
    "  print(f\"{key}: {value['rmse']}\")\n",
    "print(f\"[++] Ended the training process for fold {trial_fold}\")\n",
    "\n",
    "\n",
    "main_folds = [x for x in range(k_folds)]\n",
    "for fold in main_folds:\n",
    "    train(fold_dict = fold_dict,\n",
    "          fold = fold,\n",
    "          k_folds=k_folds,\n",
    "          model_name=model_name,\n",
    "          sc_df=use_df,\n",
    "          tar_col=tar_col,\n",
    "          optim = optim,\n",
    "          best_params = best_params)\n",
    "    print(f\"[++] Ended the training process for fold {fold}\")"
   ]
  }
 ],
 "metadata": {
  "kernelspec": {
   "display_name": "Python 3",
   "language": "python",
   "name": "python3"
  },
  "language_info": {
   "codemirror_mode": {
    "name": "ipython",
    "version": 3
   },
   "file_extension": ".py",
   "mimetype": "text/x-python",
   "name": "python",
   "nbconvert_exporter": "python",
   "pygments_lexer": "ipython3",
   "version": "3.7.12"
  },
  "papermill": {
   "default_parameters": {},
   "duration": 1172.085285,
   "end_time": "2023-01-01T13:14:08.302012",
   "environment_variables": {},
   "exception": null,
   "input_path": "__notebook__.ipynb",
   "output_path": "__notebook__.ipynb",
   "parameters": {},
   "start_time": "2023-01-01T12:54:36.216727",
   "version": "2.3.4"
  }
 },
 "nbformat": 4,
 "nbformat_minor": 5
}
